{
 "cells": [
  {
   "cell_type": "code",
   "execution_count": null,
   "metadata": {},
   "outputs": [],
   "source": [
    "import random\n",
    "\n",
    "tabaleiro = []\n",
    "\n",
    "Posicoes_Y = [\"A\",\"B\",\"C\",\"D\",\"E\",\"F\",\"G\",\"H\"]\n",
    "\n",
    "Posicoes_X = [\"1\",\"2\",\"3\",\"4\",\"5\",\"6\",\"7\",\"8\"]\n",
    "\n",
    "chamadas = 100"
   ]
  },
  {
   "cell_type": "code",
   "execution_count": null,
   "metadata": {},
   "outputs": [],
   "source": [
    "for i in Posicoes_X:\n",
    "    tabaleiro.append([])\n",
    "    for j in Posicoes_Y:\n",
    "        tabaleiro[i].append(0)"
   ]
  },
  {
   "cell_type": "code",
   "execution_count": null,
   "metadata": {},
   "outputs": [],
   "source": [
    "#definir posicao do vertice => -1\n",
    "#definir adjacentes como => 1\n",
    "#nao pode colocar com -1\n",
    "\n",
    "#em caso de empate seleciona aleatoriamente"
   ]
  },
  {
   "cell_type": "code",
   "execution_count": null,
   "metadata": {},
   "outputs": [],
   "source": [
    "#chamar aqui quando puder\n",
    "posicoes_disponiveis = []\n",
    "for i in tabaleiro:\n",
    "    for j in tabaleiro[i]:\n",
    "        if tabaleiro[i][j] == 0: #da pra ver se ele é proximo de alguem em ataque pra economizar\n",
    "            posicoes_disponiveis.append(str(i)+str(j))\n",
    "\n",
    "val_rainha = random.choice(posicoes_disponiveis)\n",
    "# val_rainha = random.randrange(len(posicoes_disponiveis))\n",
    "\n",
    "#tabaleiro[int(val_rainha[0])][int(val_rainha[1])] = -1\n",
    "\n",
    "valores_tab = []\n",
    "\n",
    "def adcionar_movimentos(val_rainha):\n",
    "    valores_tab.append([])\n",
    "    for i in tabaleiro:\n",
    "\n",
    "        for j in tabaleiro[i]:\n",
    "            if i == int(val_rainha[0]) and j == int(val_rainha[1]):\n",
    "                tabaleiro[i][j] = -1\n",
    "                valores_tab[-1].append(val_rainha)\n",
    "            elif i == int(val_rainha[0]) or j == int(val_rainha[1]):\n",
    "                tabaleiro[i][j] = 1\n",
    "\n",
    "return #maior valor dos valores_tab"
   ]
  },
  {
   "cell_type": "code",
   "execution_count": null,
   "metadata": {},
   "outputs": [],
   "source": []
  }
 ],
 "metadata": {
  "language_info": {
   "name": "python"
  },
  "orig_nbformat": 4
 },
 "nbformat": 4,
 "nbformat_minor": 2
}
